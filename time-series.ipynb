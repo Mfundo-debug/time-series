{
 "cells": [
  {
   "cell_type": "markdown",
   "metadata": {},
   "source": [
    "### Time series Model - ARIMA & Prophet\n",
    "\n",
    "1. ### Time series Model?\n",
    "* Time series are a collection of data points collected at constant time intervals. These are analyzed to determine the long term trend so as to forecast the future or perform some other form of analysis.\n",
    "* Time series data is an important form of structured data in many different fields, such as finance, economics, ecology, neuroscience, and physics. Anything that is observed or measured at many points in time forms a time series.\n",
    "#### Prophet\n",
    "* Prophet is a procedure for forecasting time series data based on an additive model where non-linear trends are fit with yearly, weekly, and daily seasonality, plus holiday effects.\n",
    "\n",
    "#### ARIMA\n",
    "* ARIMA stands for Auto-Regressive Integrated Moving Averages. The ARIMA forecasting for a stationary time series is nothing but a linear (like a linear regression) equation. The predictors depend on the parameters (p,d,q) of the ARIMA model:\n",
    "* Number of AR (Auto-Regressive) terms (p): AR terms are just lags of dependent variable. For instance if p is 5, the predictors for x(t) will be x(t-1)….x(t-5).\n",
    "* Number of MA (Moving Average) terms (q): MA terms are lagged forecast errors in prediction equation. For instance if q is 5, the predictors for x(t) will be e(t-1)….e(t-5) where e(i) is the difference between the moving average at ith instant and actual value.\n",
    "* Number of Differences (d): These are the number of nonseasonal differences, i.e. in this case we took the first order difference. So either we can pass that variable and put d=0 or pass the original variable and put d=1. Both will generate same results.\n",
    "\n",
    "####  Process:\n",
    "* Load the data\n",
    "* Preprocess the data\n",
    "* Split the data into train and test\n",
    "* Build the model\n",
    "* Make predictions\n",
    "* Evaluate and visualize results\n"
   ]
  },
  {
   "cell_type": "code",
   "execution_count": 1,
   "metadata": {},
   "outputs": [
    {
     "name": "stderr",
     "output_type": "stream",
     "text": [
      "c:\\Users\\didit\\Downloads\\time-series\\time-series\\Lib\\site-packages\\tqdm\\auto.py:21: TqdmWarning: IProgress not found. Please update jupyter and ipywidgets. See https://ipywidgets.readthedocs.io/en/stable/user_install.html\n",
      "  from .autonotebook import tqdm as notebook_tqdm\n",
      "Importing plotly failed. Interactive plots will not work.\n"
     ]
    }
   ],
   "source": [
    "#Importing necessary libraries\n",
    "import os\n",
    "import pandas as pd\n",
    "import numpy as np\n",
    "import matplotlib.pyplot as plt\n",
    "import seaborn as sns\n",
    "%matplotlib inline\n",
    "#change scientific notation to float\n",
    "np.set_printoptions(formatter={'float_kind':'{:f}'.format})\n",
    "#increase the size of sns plots\n",
    "sns.set(rc={'figure.figsize':(11.7,8.27)})\n",
    "\n",
    "#ARIMA\n",
    "from statsmodels.tsa.arima.model import ARIMA\n",
    "from statsmodels.tsa.api import ExponentialSmoothing, SimpleExpSmoothing, Holt\n",
    "from sklearn.metrics import mean_squared_error\n",
    "from sklearn.linear_model import LinearRegression\n",
    "from sklearn import linear_model\n",
    "\n",
    "import pmdarima as pm\n",
    "from pmdarima.model_selection import train_test_split\n",
    "from prophet import Prophet\n",
    "\n",
    "import itertools\n",
    "import warnings\n",
    "import datetime\n",
    "from datetime import datetime, timedelta\n",
    "warnings.filterwarnings('ignore')"
   ]
  },
  {
   "cell_type": "markdown",
   "metadata": {},
   "source": [
    "### Problem Formulation\n",
    "* Solving to forecast the GDP per capita of a country for the next 10 years"
   ]
  },
  {
   "cell_type": "code",
   "execution_count": 2,
   "metadata": {},
   "outputs": [
    {
     "data": {
      "text/html": [
       "<div>\n",
       "<style scoped>\n",
       "    .dataframe tbody tr th:only-of-type {\n",
       "        vertical-align: middle;\n",
       "    }\n",
       "\n",
       "    .dataframe tbody tr th {\n",
       "        vertical-align: top;\n",
       "    }\n",
       "\n",
       "    .dataframe thead th {\n",
       "        text-align: right;\n",
       "    }\n",
       "</style>\n",
       "<table border=\"1\" class=\"dataframe\">\n",
       "  <thead>\n",
       "    <tr style=\"text-align: right;\">\n",
       "      <th></th>\n",
       "      <th>SP_DYN_TFRT_IN</th>\n",
       "      <th>Fertility rate, total (births per woman)</th>\n",
       "      <th>AUS</th>\n",
       "      <th>Australia</th>\n",
       "      <th>1970</th>\n",
       "      <th>2.86</th>\n",
       "      <th>Unnamed: 6</th>\n",
       "      <th>Unnamed: 7</th>\n",
       "    </tr>\n",
       "  </thead>\n",
       "  <tbody>\n",
       "    <tr>\n",
       "      <th>0</th>\n",
       "      <td>SP_DYN_TFRT_IN</td>\n",
       "      <td>Fertility rate, total (births per woman)</td>\n",
       "      <td>AUS</td>\n",
       "      <td>Australia</td>\n",
       "      <td>1971</td>\n",
       "      <td>2.96</td>\n",
       "      <td>NaN</td>\n",
       "      <td>NaN</td>\n",
       "    </tr>\n",
       "    <tr>\n",
       "      <th>1</th>\n",
       "      <td>SP_DYN_TFRT_IN</td>\n",
       "      <td>Fertility rate, total (births per woman)</td>\n",
       "      <td>AUS</td>\n",
       "      <td>Australia</td>\n",
       "      <td>1972</td>\n",
       "      <td>2.74</td>\n",
       "      <td>NaN</td>\n",
       "      <td>NaN</td>\n",
       "    </tr>\n",
       "    <tr>\n",
       "      <th>2</th>\n",
       "      <td>SP_DYN_TFRT_IN</td>\n",
       "      <td>Fertility rate, total (births per woman)</td>\n",
       "      <td>AUS</td>\n",
       "      <td>Australia</td>\n",
       "      <td>1973</td>\n",
       "      <td>2.49</td>\n",
       "      <td>NaN</td>\n",
       "      <td>NaN</td>\n",
       "    </tr>\n",
       "    <tr>\n",
       "      <th>3</th>\n",
       "      <td>SP_DYN_TFRT_IN</td>\n",
       "      <td>Fertility rate, total (births per woman)</td>\n",
       "      <td>AUS</td>\n",
       "      <td>Australia</td>\n",
       "      <td>1974</td>\n",
       "      <td>2.40</td>\n",
       "      <td>NaN</td>\n",
       "      <td>NaN</td>\n",
       "    </tr>\n",
       "    <tr>\n",
       "      <th>4</th>\n",
       "      <td>SP_DYN_TFRT_IN</td>\n",
       "      <td>Fertility rate, total (births per woman)</td>\n",
       "      <td>AUS</td>\n",
       "      <td>Australia</td>\n",
       "      <td>1975</td>\n",
       "      <td>2.15</td>\n",
       "      <td>NaN</td>\n",
       "      <td>NaN</td>\n",
       "    </tr>\n",
       "  </tbody>\n",
       "</table>\n",
       "</div>"
      ],
      "text/plain": [
       "   SP_DYN_TFRT_IN  Fertility rate, total (births per woman)  AUS  Australia  \\\n",
       "0  SP_DYN_TFRT_IN  Fertility rate, total (births per woman)  AUS  Australia   \n",
       "1  SP_DYN_TFRT_IN  Fertility rate, total (births per woman)  AUS  Australia   \n",
       "2  SP_DYN_TFRT_IN  Fertility rate, total (births per woman)  AUS  Australia   \n",
       "3  SP_DYN_TFRT_IN  Fertility rate, total (births per woman)  AUS  Australia   \n",
       "4  SP_DYN_TFRT_IN  Fertility rate, total (births per woman)  AUS  Australia   \n",
       "\n",
       "   1970  2.86 Unnamed: 6 Unnamed: 7  \n",
       "0  1971  2.96        NaN        NaN  \n",
       "1  1972  2.74        NaN        NaN  \n",
       "2  1973  2.49        NaN        NaN  \n",
       "3  1974  2.40        NaN        NaN  \n",
       "4  1975  2.15        NaN        NaN  "
      ]
     },
     "execution_count": 2,
     "metadata": {},
     "output_type": "execute_result"
    }
   ],
   "source": [
    "data = pd.read_csv('gdp_raw_data.csv', encoding='latin-1')\n",
    "data.head()"
   ]
  },
  {
   "cell_type": "code",
   "execution_count": 3,
   "metadata": {},
   "outputs": [
    {
     "data": {
      "text/plain": [
       "(270037, 8)"
      ]
     },
     "execution_count": 3,
     "metadata": {},
     "output_type": "execute_result"
    }
   ],
   "source": [
    "data.shape"
   ]
  },
  {
   "cell_type": "code",
   "execution_count": 4,
   "metadata": {},
   "outputs": [
    {
     "data": {
      "text/plain": [
       "Index(['demo indicator', 'indicator', 'location', 'country', 'time', 'value',\n",
       "       'flag codes', 'flags'],\n",
       "      dtype='object')"
      ]
     },
     "execution_count": 4,
     "metadata": {},
     "output_type": "execute_result"
    }
   ],
   "source": [
    "data = data.rename(columns={'SP_DYN_TFRT_IN':'demo indicator','AUS':'location','Australia':'country','1970':'time','Fertility rate, total (births per woman)':'indicator','2.86':'value','Unnamed: 6':'flag codes','Unnamed: 7':'flags'})\n",
    "data.columns"
   ]
  },
  {
   "cell_type": "code",
   "execution_count": 5,
   "metadata": {},
   "outputs": [
    {
     "data": {
      "text/plain": [
       "demo indicator         0\n",
       "indicator              0\n",
       "location               0\n",
       "country                0\n",
       "time                   0\n",
       "value               2066\n",
       "flag codes        267971\n",
       "flags             267971\n",
       "dtype: int64"
      ]
     },
     "execution_count": 5,
     "metadata": {},
     "output_type": "execute_result"
    }
   ],
   "source": [
    "data.isnull().sum()"
   ]
  },
  {
   "cell_type": "markdown",
   "metadata": {},
   "source": [
    "### Data Pre-processing "
   ]
  },
  {
   "cell_type": "code",
   "execution_count": 6,
   "metadata": {},
   "outputs": [
    {
     "data": {
      "text/plain": [
       "array(['Population growth (annual %)',\n",
       "       'Rural population (% of total population)',\n",
       "       'GDP deflator (base year varies by country)',\n",
       "       'GDP growth (annual %)',\n",
       "       'Poverty headcount ratio at $1.90 a day (PPP) (% of population)',\n",
       "       'PPP conversion factor, GDP (LCU per international $)',\n",
       "       'Total debt service (% of GNI)', 'GNI per capita (current LCU)',\n",
       "       'Official exchange rate (LCU per US$, period average)',\n",
       "       'GDP per capita (current LCU)',\n",
       "       'PPP conversion factor, private consumption (LCU per international $)',\n",
       "       'DEC alternative conversion factor (LCU per US$)'], dtype=object)"
      ]
     },
     "execution_count": 6,
     "metadata": {},
     "output_type": "execute_result"
    }
   ],
   "source": [
    "data['indicator'][data['value'].isnull()].unique()"
   ]
  },
  {
   "cell_type": "code",
   "execution_count": 7,
   "metadata": {},
   "outputs": [
    {
     "data": {
      "text/plain": [
       "demo indicator       0\n",
       "indicator            0\n",
       "location             0\n",
       "country              0\n",
       "time                 0\n",
       "value             2066\n",
       "dtype: int64"
      ]
     },
     "execution_count": 7,
     "metadata": {},
     "output_type": "execute_result"
    }
   ],
   "source": [
    "#remove  null values\n",
    "data.dropna(subset=['value'])\n",
    "#filter out the last 2 columns\n",
    "data = data.iloc[:, :-2]\n",
    "data.isnull().sum()"
   ]
  },
  {
   "cell_type": "code",
   "execution_count": 8,
   "metadata": {},
   "outputs": [
    {
     "name": "stdout",
     "output_type": "stream",
     "text": [
      "demo indicator\n",
      "['SP_DYN_TFRT_IN' 'SP_DYN_LE00_IN' 'SP_DYN_IMRT_IN' 'SP_POP_GROW'\n",
      " 'SH_DYN_AIDS_ZS' 'SP_RUR_TOTL_ZS' 'NY_GDP_MKTP_CN' 'NY_GDP_MKTP_CD'\n",
      " 'NY_GDP_DEFL_ZS' 'NY_GDP_MKTP_KD_ZG' 'NY_GDP_PCAP_CD' 'NY_GDP_PCAP_PP_CD'\n",
      " 'NY_GDP_MKTP_PP_CD' 'XTGOV_IMF' 'NY_GNP_PCAP_CD' 'NY_GNP_PCAP_PP_CD'\n",
      " 'SI_POV_DDAY' 'PA_NUS_PPP' 'DT_TDS_DECT_GN_ZS' '200101' '200151' '200345'\n",
      " '200343' '200144' 'NY_GNP_PCAP_CN' 'NY_GDP_MKTP_KD' 'PA_NUS_PPPC_RF'\n",
      " 'PA_NUS_FCRF' 'NY_GDP_MKTP_KN' 'PA_NUS_ATLS' 'PA_NUS_PRVT_PP'\n",
      " 'NY_GNP_MKTP_CN' 'NY_GDP_PCAP_PP_KD' 'NY_GDP_MKTP_PP_KD' 'NY_GDP_PCAP_CN']\n",
      "indicator\n",
      "['Fertility rate, total (births per woman)'\n",
      " 'Life expectancy at birth, total (years)'\n",
      " 'Mortality rate, infant (per 1,000 live births)'\n",
      " 'Population growth (annual %)'\n",
      " 'Prevalence of HIV, total (% of population ages 15-49)'\n",
      " 'Rural population (% of total population)' 'GDP (current LCU)'\n",
      " 'GDP (current US$)' 'GDP deflator (base year varies by country)'\n",
      " 'GDP growth (annual %)' 'GDP per capita (current US$)'\n",
      " 'GDP per capita, PPP (current international $)'\n",
      " 'GDP, PPP (current international $)'\n",
      " 'General government total expenditure (current LCU)'\n",
      " 'GNI per capita, Atlas method (current US$)'\n",
      " 'GNI per capita, PPP (current international $)'\n",
      " 'Poverty headcount ratio at $1.90 a day (PPP) (% of population)'\n",
      " 'PPP conversion factor, GDP (LCU per international $)'\n",
      " 'Total debt service (% of GNI)' 'Total population '\n",
      " 'Population aged 65 years or older ' 'Population aged 25-64 years '\n",
      " 'Population aged 14 years or younger ' 'Population aged 15-24 years '\n",
      " 'GNI per capita (current LCU)' 'GDP at market prices (constant 2010 US$)'\n",
      " 'Price level ratio of PPP conversion factor (GDP) to market exchange rate'\n",
      " 'Official exchange rate (LCU per US$, period average)'\n",
      " 'GDP (constant LCU)' 'DEC alternative conversion factor (LCU per US$)'\n",
      " 'PPP conversion factor, private consumption (LCU per international $)'\n",
      " 'GNI (current LCU)' 'GDP per capita, PPP (constant 2011 international $)'\n",
      " 'GDP, PPP (constant 2011 international $)' 'GDP per capita (current LCU)']\n",
      "location\n",
      "['AUS' 'AUT' 'BEL' 'CAN' 'CZE' 'DNK' 'FIN' 'FRA' 'DEU' 'GRC' 'HUN' 'ISL'\n",
      " 'IRL' 'ITA' 'JPN' 'KOR' 'LUX' 'MEX' 'NLD' 'NZL' 'NOR' 'POL' 'PRT' 'SVK'\n",
      " 'AFG' 'ALB' 'DZA' 'AND' 'AGO' 'ATG' 'ARG' 'ARM' 'ABW' 'AZE' 'BHS' 'BHR'\n",
      " 'BGD' 'BRB' 'BLZ' 'BEN' 'BMU' 'BTN' 'BOL' 'BIH' 'BWA' 'BRA' 'BRN' 'BGR'\n",
      " 'BFA' 'BDI' 'KHM' 'CMR' 'CPV' 'CAF' 'TCD' 'CHL' 'CHN' 'COL' 'COM' 'COG'\n",
      " 'CRI' 'CIV' 'HRV' 'CUB' 'CYP' 'PRK' 'COD' 'DJI' 'DMA' 'DOM' 'ECU' 'EGY'\n",
      " 'SLV' 'GNQ' 'ERI' 'EST' 'ETH' 'FJI' 'PYF' 'GAB' 'GMB' 'GEO' 'GHA' 'GRL'\n",
      " 'GRD' 'GUM' 'GTM' 'GIN' 'GNB' 'GUY' 'HTI' 'HND' 'HKG' 'IND' 'IDN' 'IRN'\n",
      " 'IRQ' 'ISR' 'JAM' 'JOR' 'KAZ' 'KEN' 'KIR' 'KWT' 'KGZ' 'LAO' 'LVA' 'LBN'\n",
      " 'LSO' 'LBR' 'LBY' 'LIE' 'LTU' 'MKD' 'MDG' 'MWI' 'MYS' 'MDV' 'MLI' 'MLT'\n",
      " 'MHL' 'MRT' 'MUS' 'FSM' 'MDA' 'MNG' 'MAR' 'MOZ' 'MMR' 'NAM' 'NPL' 'NCL'\n",
      " 'NIC' 'NER' 'NGA' 'OMN' 'PAK' 'PLW' 'PAN' 'PNG' 'PRY' 'PER' 'PRI' 'RUS'\n",
      " 'RWA' 'VCT' 'WSM' 'SAU' 'SYC' 'SLE' 'SGP' 'SLB' 'SDN' 'SYR' 'TLS' 'TGO'\n",
      " 'URY' 'UZB' 'VUT' 'VEN' 'VIR' 'YEM' 'ZMB' 'ZWE' 'MAC' 'SRB' 'MNE' 'CUW'\n",
      " 'SXM' 'MAF' 'FRO' 'SMR' 'MCO' 'ROU' 'ASM' 'CYM' 'MNP' 'TCA' 'AIA' 'COK'\n",
      " 'MSR' 'NRU' 'UKR' 'STP' 'TZA' 'KNA' 'SUR' 'TKM' 'UGA' 'VNM' 'SVN' 'GLP'\n",
      " 'PHL' 'TUR' 'IMN' 'SWE' 'ARE' 'LCA' 'ZAF' 'CHE' 'ZZA' 'TJK' 'USA' 'BLR'\n",
      " 'TUN' 'LKA' 'SWZ' 'QAT' 'SEN' 'TTO' 'THA' 'TON' 'SSD' 'GBR' 'ESP' 'SOM'\n",
      " 'TUV' 'PSE' 'REU' 'GUF' 'GIB' 'ESH' 'VGB' 'MTQ' 'TKL' 'MYT' 'NIU' 'FLK'\n",
      " 'VAT' 'SHN' 'SPM' 'WLF' 'BLM']\n",
      "country\n",
      "['Australia' 'Austria' 'Belgium' 'Canada' 'Czechia' 'Denmark' 'Finland'\n",
      " 'France' 'Germany' 'Greece' 'Hungary' 'Iceland' 'Ireland' 'Italy' 'Japan'\n",
      " 'Republic of Korea' 'Luxembourg' 'Mexico' 'Netherlands' 'New Zealand'\n",
      " 'Norway' 'Poland' 'Portugal' 'Slovakia' 'Afghanistan' 'Albania' 'Algeria'\n",
      " 'Andorra' 'Angola' 'Antigua and Barbuda' 'Argentina' 'Armenia' 'Aruba'\n",
      " 'Azerbaijan' 'Bahamas' 'Bahrain' 'Bangladesh' 'Barbados' 'Belize' 'Benin'\n",
      " 'Bermuda' 'Bhutan' 'Bolivia (Plurinational State of)'\n",
      " 'Bosnia and Herzegovina' 'Botswana' 'Brazil' 'Brunei Darussalam'\n",
      " 'Bulgaria' 'Burkina Faso' 'Burundi' 'Cambodia' 'Cameroon' 'Cabo Verde'\n",
      " 'Central African Republic' 'Chad' 'Chile' 'China' 'Colombia' 'Comoros'\n",
      " 'Congo' 'Costa Rica' \"Côte d'Ivoire\" 'Croatia' 'Cuba' 'Cyprus'\n",
      " \"Democratic People's Republic of Korea\"\n",
      " 'Democratic Republic of the Congo' 'Djibouti' 'Dominica'\n",
      " 'Dominican Republic' 'Ecuador' 'Egypt' 'El Salvador' 'Equatorial Guinea'\n",
      " 'Eritrea' 'Estonia' 'Ethiopia' 'Fiji' 'French Polynesia' 'Gabon' 'Gambia'\n",
      " 'Georgia' 'Ghana' 'Greenland' 'Grenada' 'Guam' 'Guatemala' 'Guinea'\n",
      " 'Guinea-Bissau' 'Guyana' 'Haiti' 'Honduras'\n",
      " 'China, Hong Kong Special Administrative Region' 'India' 'Indonesia'\n",
      " 'Iran (Islamic Republic of)' 'Iraq' 'Israel' 'Jamaica' 'Jordan'\n",
      " 'Kazakhstan' 'Kenya' 'Kiribati' 'Kuwait' 'Kyrgyzstan'\n",
      " \"Lao People's Democratic Republic\" 'Latvia' 'Lebanon' 'Lesotho' 'Liberia'\n",
      " 'Libya' 'Liechtenstein' 'Lithuania' 'North Macedonia' 'Madagascar'\n",
      " 'Malawi' 'Malaysia' 'Maldives' 'Mali' 'Malta' 'Marshall Islands'\n",
      " 'Mauritania' 'Mauritius' 'Micronesia (Federated States of)'\n",
      " 'Republic of Moldova' 'Mongolia' 'Morocco' 'Mozambique' 'Myanmar'\n",
      " 'Namibia' 'Nepal' 'New Caledonia' 'Nicaragua' 'Niger' 'Nigeria' 'Oman'\n",
      " 'Pakistan' 'Palau' 'Panama' 'Papua New Guinea' 'Paraguay' 'Peru'\n",
      " 'Puerto Rico' 'Russian Federation' 'Rwanda'\n",
      " 'Saint Vincent and the Grenadines' 'Samoa' 'Saudi Arabia' 'Seychelles'\n",
      " 'Sierra Leone' 'Singapore' 'Solomon Islands' 'Sudan'\n",
      " 'Syrian Arab Republic' 'Timor-Leste' 'Togo' 'Uruguay' 'Uzbekistan'\n",
      " 'Vanuatu' 'Venezuela (Bolivarian Republic of)'\n",
      " 'United States Virgin Islands' 'Yemen' 'Zambia' 'Zimbabwe'\n",
      " 'China, Macao Special Administrative Region' 'Serbia' 'Montenegro'\n",
      " 'Curaçao' 'Sint Maarten (Dutch part)' 'Saint-Martin (French part)'\n",
      " 'Faeroe Islands' 'San Marino' 'Monaco' 'Romania' 'American Samoa'\n",
      " 'Cayman Islands' 'Northern Mariana Islands' 'Turks and Caicos Islands'\n",
      " 'Anguilla' 'Cook Islands' 'Montserrat' 'Nauru' 'Ukraine'\n",
      " 'Sao Tome and Principe' 'United Republic of Tanzania'\n",
      " 'Saint Kitts and Nevis' 'Suriname' 'Turkmenistan' 'Uganda' 'Viet Nam'\n",
      " 'Slovenia' 'Guadeloupe' 'Philippines' 'Turkey' 'Isle of Man' 'Sweden'\n",
      " 'United Arab Emirates' 'Saint Lucia' 'South Africa' 'Switzerland'\n",
      " 'Channel Islands' 'Tajikistan' 'United States of America' 'Belarus'\n",
      " 'Tunisia' 'Sri Lanka' 'Eswatini' 'Qatar' 'Senegal' 'Trinidad and Tobago'\n",
      " 'Thailand' 'Tonga' 'South Sudan'\n",
      " 'United Kingdom of Great Britain and Northern Ireland' 'Spain' 'Somalia'\n",
      " 'Tuvalu' 'Palestine' 'Réunion' 'French Guiana' 'Gibraltar'\n",
      " 'Western Sahara' 'British Virgin Islands' 'Martinique' 'Tokelau'\n",
      " 'Mayotte' 'Niue' 'Falkland Islands (Malvinas)' 'Holy See' 'Saint Helena'\n",
      " 'Saint Pierre and Miquelon' 'Wallis and Futuna Islands'\n",
      " 'Saint-Barthélemy']\n",
      "time\n",
      "[1971 1972 1973 1974 1975 1976 1977 1978 1979 1980 1981 1982 1983 1984\n",
      " 1985 1986 1987 1988 1989 1990 1991 1992 1993 1994 1995 1996 1997 1998\n",
      " 1999 2000 2001 2002 2003 2004 2005 2006 2007 2008 2009 2010 2011 2012\n",
      " 2013 2014 2015 2016 2017 1970 2018 2019]\n",
      "value\n",
      "[2.960000 2.740000 2.490000 ... 46275.860000 16.760000 36.450000]\n"
     ]
    }
   ],
   "source": [
    "#Investigate all the elements within each feature\n",
    "for column in data.columns:\n",
    "    print(column)\n",
    "    print(data[column].unique())"
   ]
  },
  {
   "cell_type": "code",
   "execution_count": 9,
   "metadata": {},
   "outputs": [
    {
     "name": "stdout",
     "output_type": "stream",
     "text": [
      "The number of values for feature demo indicator is: 35 -- ['SP_DYN_TFRT_IN' 'SP_DYN_LE00_IN' 'SP_DYN_IMRT_IN' 'SP_POP_GROW'\n",
      " 'SH_DYN_AIDS_ZS' 'SP_RUR_TOTL_ZS' 'NY_GDP_MKTP_CN' 'NY_GDP_MKTP_CD'\n",
      " 'NY_GDP_DEFL_ZS' 'NY_GDP_MKTP_KD_ZG' 'NY_GDP_PCAP_CD' 'NY_GDP_PCAP_PP_CD'\n",
      " 'NY_GDP_MKTP_PP_CD' 'XTGOV_IMF' 'NY_GNP_PCAP_CD' 'NY_GNP_PCAP_PP_CD'\n",
      " 'SI_POV_DDAY' 'PA_NUS_PPP' 'DT_TDS_DECT_GN_ZS' '200101' '200151' '200345'\n",
      " '200343' '200144' 'NY_GNP_PCAP_CN' 'NY_GDP_MKTP_KD' 'PA_NUS_PPPC_RF'\n",
      " 'PA_NUS_FCRF' 'NY_GDP_MKTP_KN' 'PA_NUS_ATLS' 'PA_NUS_PRVT_PP'\n",
      " 'NY_GNP_MKTP_CN' 'NY_GDP_PCAP_PP_KD' 'NY_GDP_MKTP_PP_KD' 'NY_GDP_PCAP_CN']\n",
      "The number of values for feature indicator is: 35 -- ['Fertility rate, total (births per woman)'\n",
      " 'Life expectancy at birth, total (years)'\n",
      " 'Mortality rate, infant (per 1,000 live births)'\n",
      " 'Population growth (annual %)'\n",
      " 'Prevalence of HIV, total (% of population ages 15-49)'\n",
      " 'Rural population (% of total population)' 'GDP (current LCU)'\n",
      " 'GDP (current US$)' 'GDP deflator (base year varies by country)'\n",
      " 'GDP growth (annual %)' 'GDP per capita (current US$)'\n",
      " 'GDP per capita, PPP (current international $)'\n",
      " 'GDP, PPP (current international $)'\n",
      " 'General government total expenditure (current LCU)'\n",
      " 'GNI per capita, Atlas method (current US$)'\n",
      " 'GNI per capita, PPP (current international $)'\n",
      " 'Poverty headcount ratio at $1.90 a day (PPP) (% of population)'\n",
      " 'PPP conversion factor, GDP (LCU per international $)'\n",
      " 'Total debt service (% of GNI)' 'Total population '\n",
      " 'Population aged 65 years or older ' 'Population aged 25-64 years '\n",
      " 'Population aged 14 years or younger ' 'Population aged 15-24 years '\n",
      " 'GNI per capita (current LCU)' 'GDP at market prices (constant 2010 US$)'\n",
      " 'Price level ratio of PPP conversion factor (GDP) to market exchange rate'\n",
      " 'Official exchange rate (LCU per US$, period average)'\n",
      " 'GDP (constant LCU)' 'DEC alternative conversion factor (LCU per US$)'\n",
      " 'PPP conversion factor, private consumption (LCU per international $)'\n",
      " 'GNI (current LCU)' 'GDP per capita, PPP (constant 2011 international $)'\n",
      " 'GDP, PPP (constant 2011 international $)' 'GDP per capita (current LCU)']\n",
      "The number of values for feature location is: 233\n",
      "The number of values for feature country is: 233\n",
      "The number of values for feature time is: 50\n",
      "The number of values for feature value is: 125439\n"
     ]
    }
   ],
   "source": [
    "for column in data:\n",
    "    unique_vals = data[column].unique()\n",
    "    nr_values = len(unique_vals)\n",
    "    if nr_values < 36:\n",
    "        print(\"The number of values for feature {} is: {} -- {}\".format(column, nr_values, unique_vals))\n",
    "    else:\n",
    "        print(\"The number of values for feature {} is: {}\".format(column, nr_values))"
   ]
  },
  {
   "cell_type": "code",
   "execution_count": 10,
   "metadata": {},
   "outputs": [
    {
     "data": {
      "text/html": [
       "<div>\n",
       "<style scoped>\n",
       "    .dataframe tbody tr th:only-of-type {\n",
       "        vertical-align: middle;\n",
       "    }\n",
       "\n",
       "    .dataframe tbody tr th {\n",
       "        vertical-align: top;\n",
       "    }\n",
       "\n",
       "    .dataframe thead th {\n",
       "        text-align: right;\n",
       "    }\n",
       "</style>\n",
       "<table border=\"1\" class=\"dataframe\">\n",
       "  <thead>\n",
       "    <tr style=\"text-align: right;\">\n",
       "      <th></th>\n",
       "      <th>demo indicator</th>\n",
       "      <th>indicator</th>\n",
       "      <th>location</th>\n",
       "      <th>country</th>\n",
       "      <th>time</th>\n",
       "      <th>value</th>\n",
       "    </tr>\n",
       "  </thead>\n",
       "  <tbody>\n",
       "    <tr>\n",
       "      <th>76847</th>\n",
       "      <td>NY_GDP_PCAP_PP_CD</td>\n",
       "      <td>GDP per capita, PPP (current international $)</td>\n",
       "      <td>AUS</td>\n",
       "      <td>Australia</td>\n",
       "      <td>1990</td>\n",
       "      <td>17333.10</td>\n",
       "    </tr>\n",
       "    <tr>\n",
       "      <th>76848</th>\n",
       "      <td>NY_GDP_PCAP_PP_CD</td>\n",
       "      <td>GDP per capita, PPP (current international $)</td>\n",
       "      <td>AUS</td>\n",
       "      <td>Australia</td>\n",
       "      <td>1991</td>\n",
       "      <td>17793.60</td>\n",
       "    </tr>\n",
       "    <tr>\n",
       "      <th>76849</th>\n",
       "      <td>NY_GDP_PCAP_PP_CD</td>\n",
       "      <td>GDP per capita, PPP (current international $)</td>\n",
       "      <td>AUS</td>\n",
       "      <td>Australia</td>\n",
       "      <td>1992</td>\n",
       "      <td>18189.34</td>\n",
       "    </tr>\n",
       "    <tr>\n",
       "      <th>76850</th>\n",
       "      <td>NY_GDP_PCAP_PP_CD</td>\n",
       "      <td>GDP per capita, PPP (current international $)</td>\n",
       "      <td>AUS</td>\n",
       "      <td>Australia</td>\n",
       "      <td>1993</td>\n",
       "      <td>19130.89</td>\n",
       "    </tr>\n",
       "    <tr>\n",
       "      <th>76851</th>\n",
       "      <td>NY_GDP_PCAP_PP_CD</td>\n",
       "      <td>GDP per capita, PPP (current international $)</td>\n",
       "      <td>AUS</td>\n",
       "      <td>Australia</td>\n",
       "      <td>1994</td>\n",
       "      <td>20063.81</td>\n",
       "    </tr>\n",
       "  </tbody>\n",
       "</table>\n",
       "</div>"
      ],
      "text/plain": [
       "          demo indicator                                      indicator  \\\n",
       "76847  NY_GDP_PCAP_PP_CD  GDP per capita, PPP (current international $)   \n",
       "76848  NY_GDP_PCAP_PP_CD  GDP per capita, PPP (current international $)   \n",
       "76849  NY_GDP_PCAP_PP_CD  GDP per capita, PPP (current international $)   \n",
       "76850  NY_GDP_PCAP_PP_CD  GDP per capita, PPP (current international $)   \n",
       "76851  NY_GDP_PCAP_PP_CD  GDP per capita, PPP (current international $)   \n",
       "\n",
       "      location    country  time     value  \n",
       "76847      AUS  Australia  1990  17333.10  \n",
       "76848      AUS  Australia  1991  17793.60  \n",
       "76849      AUS  Australia  1992  18189.34  \n",
       "76850      AUS  Australia  1993  19130.89  \n",
       "76851      AUS  Australia  1994  20063.81  "
      ]
     },
     "execution_count": 10,
     "metadata": {},
     "output_type": "execute_result"
    }
   ],
   "source": [
    "#filter out the data we need GDP per capita\n",
    "forecast_data = data[data['indicator'] == 'GDP per capita, PPP (current international $)']\n",
    "\n",
    "forecast_data = forecast_data[~forecast_data['country'].isin(['Dijibouti','South Sudan','Curabao','Eritrea','Bermuda','Venezuela (Bolivarian Republic of)'])]\n",
    "forecast_data.head()"
   ]
  },
  {
   "cell_type": "code",
   "execution_count": 11,
   "metadata": {},
   "outputs": [
    {
     "data": {
      "text/html": [
       "<div>\n",
       "<style scoped>\n",
       "    .dataframe tbody tr th:only-of-type {\n",
       "        vertical-align: middle;\n",
       "    }\n",
       "\n",
       "    .dataframe tbody tr th {\n",
       "        vertical-align: top;\n",
       "    }\n",
       "\n",
       "    .dataframe thead th {\n",
       "        text-align: right;\n",
       "    }\n",
       "</style>\n",
       "<table border=\"1\" class=\"dataframe\">\n",
       "  <thead>\n",
       "    <tr style=\"text-align: right;\">\n",
       "      <th></th>\n",
       "      <th>country</th>\n",
       "      <th>time</th>\n",
       "      <th>value</th>\n",
       "    </tr>\n",
       "  </thead>\n",
       "  <tbody>\n",
       "    <tr>\n",
       "      <th>76847</th>\n",
       "      <td>Australia</td>\n",
       "      <td>1990</td>\n",
       "      <td>17333.10</td>\n",
       "    </tr>\n",
       "    <tr>\n",
       "      <th>76848</th>\n",
       "      <td>Australia</td>\n",
       "      <td>1991</td>\n",
       "      <td>17793.60</td>\n",
       "    </tr>\n",
       "    <tr>\n",
       "      <th>76849</th>\n",
       "      <td>Australia</td>\n",
       "      <td>1992</td>\n",
       "      <td>18189.34</td>\n",
       "    </tr>\n",
       "    <tr>\n",
       "      <th>76850</th>\n",
       "      <td>Australia</td>\n",
       "      <td>1993</td>\n",
       "      <td>19130.89</td>\n",
       "    </tr>\n",
       "    <tr>\n",
       "      <th>76851</th>\n",
       "      <td>Australia</td>\n",
       "      <td>1994</td>\n",
       "      <td>20063.81</td>\n",
       "    </tr>\n",
       "  </tbody>\n",
       "</table>\n",
       "</div>"
      ],
      "text/plain": [
       "         country  time     value\n",
       "76847  Australia  1990  17333.10\n",
       "76848  Australia  1991  17793.60\n",
       "76849  Australia  1992  18189.34\n",
       "76850  Australia  1993  19130.89\n",
       "76851  Australia  1994  20063.81"
      ]
     },
     "execution_count": 11,
     "metadata": {},
     "output_type": "execute_result"
    }
   ],
   "source": [
    "forecast_data = forecast_data[['country','time','value']]\n",
    "forecast_data.head()"
   ]
  },
  {
   "cell_type": "code",
   "execution_count": 12,
   "metadata": {},
   "outputs": [
    {
     "data": {
      "text/html": [
       "<div>\n",
       "<style scoped>\n",
       "    .dataframe tbody tr th:only-of-type {\n",
       "        vertical-align: middle;\n",
       "    }\n",
       "\n",
       "    .dataframe tbody tr th {\n",
       "        vertical-align: top;\n",
       "    }\n",
       "\n",
       "    .dataframe thead th {\n",
       "        text-align: right;\n",
       "    }\n",
       "</style>\n",
       "<table border=\"1\" class=\"dataframe\">\n",
       "  <thead>\n",
       "    <tr style=\"text-align: right;\">\n",
       "      <th></th>\n",
       "      <th>country</th>\n",
       "      <th>time</th>\n",
       "      <th>value</th>\n",
       "    </tr>\n",
       "  </thead>\n",
       "  <tbody>\n",
       "    <tr>\n",
       "      <th>76847</th>\n",
       "      <td>Australia</td>\n",
       "      <td>1990-01-01</td>\n",
       "      <td>17333.10</td>\n",
       "    </tr>\n",
       "    <tr>\n",
       "      <th>76848</th>\n",
       "      <td>Australia</td>\n",
       "      <td>1991-01-01</td>\n",
       "      <td>17793.60</td>\n",
       "    </tr>\n",
       "    <tr>\n",
       "      <th>76849</th>\n",
       "      <td>Australia</td>\n",
       "      <td>1992-01-01</td>\n",
       "      <td>18189.34</td>\n",
       "    </tr>\n",
       "    <tr>\n",
       "      <th>76850</th>\n",
       "      <td>Australia</td>\n",
       "      <td>1993-01-01</td>\n",
       "      <td>19130.89</td>\n",
       "    </tr>\n",
       "    <tr>\n",
       "      <th>76851</th>\n",
       "      <td>Australia</td>\n",
       "      <td>1994-01-01</td>\n",
       "      <td>20063.81</td>\n",
       "    </tr>\n",
       "  </tbody>\n",
       "</table>\n",
       "</div>"
      ],
      "text/plain": [
       "         country       time     value\n",
       "76847  Australia 1990-01-01  17333.10\n",
       "76848  Australia 1991-01-01  17793.60\n",
       "76849  Australia 1992-01-01  18189.34\n",
       "76850  Australia 1993-01-01  19130.89\n",
       "76851  Australia 1994-01-01  20063.81"
      ]
     },
     "execution_count": 12,
     "metadata": {},
     "output_type": "execute_result"
    }
   ],
   "source": [
    "#change time to date- most time series models requires date structure\n",
    "forecast_data['time'] = forecast_data['time'].astype('str') + '-01'\n",
    "forecast_data['time'] = pd.to_datetime(forecast_data['time'])\n",
    "forecast_data.head()"
   ]
  },
  {
   "cell_type": "code",
   "execution_count": 13,
   "metadata": {},
   "outputs": [
    {
     "data": {
      "text/html": [
       "<div>\n",
       "<style scoped>\n",
       "    .dataframe tbody tr th:only-of-type {\n",
       "        vertical-align: middle;\n",
       "    }\n",
       "\n",
       "    .dataframe tbody tr th {\n",
       "        vertical-align: top;\n",
       "    }\n",
       "\n",
       "    .dataframe thead th {\n",
       "        text-align: right;\n",
       "    }\n",
       "</style>\n",
       "<table border=\"1\" class=\"dataframe\">\n",
       "  <thead>\n",
       "    <tr style=\"text-align: right;\">\n",
       "      <th></th>\n",
       "      <th>country</th>\n",
       "      <th>time</th>\n",
       "      <th>value</th>\n",
       "    </tr>\n",
       "  </thead>\n",
       "  <tbody>\n",
       "    <tr>\n",
       "      <th>267164</th>\n",
       "      <td>San Marino</td>\n",
       "      <td>2014-01-01</td>\n",
       "      <td>59819.24</td>\n",
       "    </tr>\n",
       "    <tr>\n",
       "      <th>267165</th>\n",
       "      <td>San Marino</td>\n",
       "      <td>2015-01-01</td>\n",
       "      <td>60262.54</td>\n",
       "    </tr>\n",
       "    <tr>\n",
       "      <th>267166</th>\n",
       "      <td>San Marino</td>\n",
       "      <td>2016-01-01</td>\n",
       "      <td>61806.13</td>\n",
       "    </tr>\n",
       "    <tr>\n",
       "      <th>267167</th>\n",
       "      <td>San Marino</td>\n",
       "      <td>2017-01-01</td>\n",
       "      <td>63548.59</td>\n",
       "    </tr>\n",
       "    <tr>\n",
       "      <th>267168</th>\n",
       "      <td>Curaçao</td>\n",
       "      <td>2011-01-01</td>\n",
       "      <td>27907.87</td>\n",
       "    </tr>\n",
       "  </tbody>\n",
       "</table>\n",
       "</div>"
      ],
      "text/plain": [
       "           country       time     value\n",
       "267164  San Marino 2014-01-01  59819.24\n",
       "267165  San Marino 2015-01-01  60262.54\n",
       "267166  San Marino 2016-01-01  61806.13\n",
       "267167  San Marino 2017-01-01  63548.59\n",
       "267168     Curaçao 2011-01-01  27907.87"
      ]
     },
     "execution_count": 13,
     "metadata": {},
     "output_type": "execute_result"
    }
   ],
   "source": [
    "forecast_data.tail()"
   ]
  },
  {
   "cell_type": "markdown",
   "metadata": {},
   "source": [
    "### Splitting the raw data"
   ]
  },
  {
   "cell_type": "code",
   "execution_count": 14,
   "metadata": {},
   "outputs": [
    {
     "name": "stdout",
     "output_type": "stream",
     "text": [
      "(3968, 3) (1324, 3)\n"
     ]
    },
    {
     "data": {
      "text/plain": [
       "<DatetimeArray>\n",
       "['1990-01-01 00:00:00', '1991-01-01 00:00:00', '1992-01-01 00:00:00',\n",
       " '1993-01-01 00:00:00', '1994-01-01 00:00:00', '1995-01-01 00:00:00',\n",
       " '1996-01-01 00:00:00', '1997-01-01 00:00:00', '1998-01-01 00:00:00',\n",
       " '1999-01-01 00:00:00', '2000-01-01 00:00:00', '2001-01-01 00:00:00',\n",
       " '2002-01-01 00:00:00', '2003-01-01 00:00:00', '2004-01-01 00:00:00',\n",
       " '2005-01-01 00:00:00', '2006-01-01 00:00:00', '2007-01-01 00:00:00',\n",
       " '2008-01-01 00:00:00', '2009-01-01 00:00:00', '2010-01-01 00:00:00',\n",
       " '2011-01-01 00:00:00']\n",
       "Length: 22, dtype: datetime64[ns]"
      ]
     },
     "execution_count": 14,
     "metadata": {},
     "output_type": "execute_result"
    }
   ],
   "source": [
    "X_train = forecast_data[forecast_data['time'] < '2012-01-01']\n",
    "X_valid = forecast_data[forecast_data['time'] >= '2011-01-01']\n",
    "\n",
    "print(X_train.shape, X_valid.shape)\n",
    "\n",
    "X_train['time'].unique()"
   ]
  },
  {
   "cell_type": "markdown",
   "metadata": {},
   "source": [
    "### ARIMA ( Autoregressive Integrated Moving Average ) -1 Country\n",
    "* ARIMA is a model that can be fitted to time series data in order to better understand or predict future points in the series.\n",
    "* ARIMA models are denoted with the notation ARIMA(p, d, q). These three parameters account for seasonality, trend, and noise in data.\n",
    "* ARIMA models are applied in some cases where data show evidence of non-stationarity, where an initial differencing step (corresponding to the 'integrated' part of the model) can be applied one or more times to eliminate the non-stationarity.\n",
    "* The parameters of the ARIMA model are defined as follows:\n",
    "    * p: The number of lag observations included in the model, also called the lag order.\n",
    "    * d: The number of times that the raw observations are differenced, also called the degree of differencing.\n",
    "    * q: The size of the moving average window, also called the order of moving average."
   ]
  },
  {
   "cell_type": "code",
   "execution_count": 15,
   "metadata": {},
   "outputs": [
    {
     "data": {
      "text/plain": [
       "DatetimeIndex(['2011-01-01', '2012-01-01', '2013-01-01', '2014-01-01',\n",
       "               '2015-01-01', '2016-01-01', '2017-01-01'],\n",
       "              dtype='datetime64[ns]', freq='AS-JAN')"
      ]
     },
     "execution_count": 15,
     "metadata": {},
     "output_type": "execute_result"
    }
   ],
   "source": [
    "#filter the train data\n",
    "au  = X_train[X_train['country'] == 'Australia']\n",
    "au2 = au[['time','value']]\n",
    "#filter the valid data\n",
    "au_v = X_valid[X_valid['country'] == 'Australia']\n",
    "au_v2 = au_v[['time','value']]\n",
    "#set the data into index\n",
    "au2.set_index('time', inplace=True)\n",
    "au_v2.set_index('time', inplace=True)\n",
    "#set the index for 6 years\n",
    "index_7_years = pd.date_range(au2.index[-1], freq='AS', periods=7)\n",
    "index_7_years "
   ]
  },
  {
   "cell_type": "code",
   "execution_count": 16,
   "metadata": {},
   "outputs": [
    {
     "data": {
      "text/plain": [
       "191"
      ]
     },
     "execution_count": 16,
     "metadata": {},
     "output_type": "execute_result"
    }
   ],
   "source": [
    "len(X_train['country'].unique())"
   ]
  },
  {
   "cell_type": "code",
   "execution_count": 25,
   "metadata": {},
   "outputs": [],
   "source": [
    "#remove NAN values from column values\n",
    "data = data.dropna(subset=['value'])\n",
    "#remove NaN values from column value\n",
    "au_v['value'] = au_v['value'].fillna(0)"
   ]
  },
  {
   "cell_type": "code",
   "execution_count": 26,
   "metadata": {},
   "outputs": [
    {
     "name": "stdout",
     "output_type": "stream",
     "text": [
      "AIC:  346.5492840969433\n"
     ]
    },
    {
     "ename": "ValueError",
     "evalue": "Input contains NaN.",
     "output_type": "error",
     "traceback": [
      "\u001b[1;31m---------------------------------------------------------------------------\u001b[0m",
      "\u001b[1;31mValueError\u001b[0m                                Traceback (most recent call last)",
      "Cell \u001b[1;32mIn[26], line 18\u001b[0m\n\u001b[0;32m     16\u001b[0m \u001b[39mprint\u001b[39m(\u001b[39m'\u001b[39m\u001b[39mAIC: \u001b[39m\u001b[39m'\u001b[39m, model_arima\u001b[39m.\u001b[39mfit()\u001b[39m.\u001b[39maic)\n\u001b[0;32m     17\u001b[0m \u001b[39m#MSE\u001b[39;00m\n\u001b[1;32m---> 18\u001b[0m \u001b[39mprint\u001b[39m(\u001b[39m'\u001b[39m\u001b[39mMSE of ARIMA is: \u001b[39m\u001b[39m'\u001b[39m, mean_squared_error(au_v[\u001b[39m'\u001b[39;49m\u001b[39mvalue\u001b[39;49m\u001b[39m'\u001b[39;49m]\u001b[39m.\u001b[39;49mvalues, fcast1\u001b[39m.\u001b[39;49mvalues, squared\u001b[39m=\u001b[39;49m\u001b[39mFalse\u001b[39;49;00m))\n",
      "File \u001b[1;32mc:\\Users\\didit\\Downloads\\time-series\\time-series\\Lib\\site-packages\\sklearn\\utils\\_param_validation.py:211\u001b[0m, in \u001b[0;36mvalidate_params.<locals>.decorator.<locals>.wrapper\u001b[1;34m(*args, **kwargs)\u001b[0m\n\u001b[0;32m    205\u001b[0m \u001b[39mtry\u001b[39;00m:\n\u001b[0;32m    206\u001b[0m     \u001b[39mwith\u001b[39;00m config_context(\n\u001b[0;32m    207\u001b[0m         skip_parameter_validation\u001b[39m=\u001b[39m(\n\u001b[0;32m    208\u001b[0m             prefer_skip_nested_validation \u001b[39mor\u001b[39;00m global_skip_validation\n\u001b[0;32m    209\u001b[0m         )\n\u001b[0;32m    210\u001b[0m     ):\n\u001b[1;32m--> 211\u001b[0m         \u001b[39mreturn\u001b[39;00m func(\u001b[39m*\u001b[39;49margs, \u001b[39m*\u001b[39;49m\u001b[39m*\u001b[39;49mkwargs)\n\u001b[0;32m    212\u001b[0m \u001b[39mexcept\u001b[39;00m InvalidParameterError \u001b[39mas\u001b[39;00m e:\n\u001b[0;32m    213\u001b[0m     \u001b[39m# When the function is just a wrapper around an estimator, we allow\u001b[39;00m\n\u001b[0;32m    214\u001b[0m     \u001b[39m# the function to delegate validation to the estimator, but we replace\u001b[39;00m\n\u001b[0;32m    215\u001b[0m     \u001b[39m# the name of the estimator by the name of the function in the error\u001b[39;00m\n\u001b[0;32m    216\u001b[0m     \u001b[39m# message to avoid confusion.\u001b[39;00m\n\u001b[0;32m    217\u001b[0m     msg \u001b[39m=\u001b[39m re\u001b[39m.\u001b[39msub(\n\u001b[0;32m    218\u001b[0m         \u001b[39mr\u001b[39m\u001b[39m\"\u001b[39m\u001b[39mparameter of \u001b[39m\u001b[39m\\\u001b[39m\u001b[39mw+ must be\u001b[39m\u001b[39m\"\u001b[39m,\n\u001b[0;32m    219\u001b[0m         \u001b[39mf\u001b[39m\u001b[39m\"\u001b[39m\u001b[39mparameter of \u001b[39m\u001b[39m{\u001b[39;00mfunc\u001b[39m.\u001b[39m\u001b[39m__qualname__\u001b[39m\u001b[39m}\u001b[39;00m\u001b[39m must be\u001b[39m\u001b[39m\"\u001b[39m,\n\u001b[0;32m    220\u001b[0m         \u001b[39mstr\u001b[39m(e),\n\u001b[0;32m    221\u001b[0m     )\n",
      "File \u001b[1;32mc:\\Users\\didit\\Downloads\\time-series\\time-series\\Lib\\site-packages\\sklearn\\metrics\\_regression.py:474\u001b[0m, in \u001b[0;36mmean_squared_error\u001b[1;34m(y_true, y_pred, sample_weight, multioutput, squared)\u001b[0m\n\u001b[0;32m    404\u001b[0m \u001b[39m@validate_params\u001b[39m(\n\u001b[0;32m    405\u001b[0m     {\n\u001b[0;32m    406\u001b[0m         \u001b[39m\"\u001b[39m\u001b[39my_true\u001b[39m\u001b[39m\"\u001b[39m: [\u001b[39m\"\u001b[39m\u001b[39marray-like\u001b[39m\u001b[39m\"\u001b[39m],\n\u001b[1;32m   (...)\u001b[0m\n\u001b[0;32m    415\u001b[0m     y_true, y_pred, \u001b[39m*\u001b[39m, sample_weight\u001b[39m=\u001b[39m\u001b[39mNone\u001b[39;00m, multioutput\u001b[39m=\u001b[39m\u001b[39m\"\u001b[39m\u001b[39muniform_average\u001b[39m\u001b[39m\"\u001b[39m, squared\u001b[39m=\u001b[39m\u001b[39mTrue\u001b[39;00m\n\u001b[0;32m    416\u001b[0m ):\n\u001b[0;32m    417\u001b[0m \u001b[39m    \u001b[39m\u001b[39m\"\"\"Mean squared error regression loss.\u001b[39;00m\n\u001b[0;32m    418\u001b[0m \n\u001b[0;32m    419\u001b[0m \u001b[39m    Read more in the :ref:`User Guide <mean_squared_error>`.\u001b[39;00m\n\u001b[1;32m   (...)\u001b[0m\n\u001b[0;32m    472\u001b[0m \u001b[39m    0.825...\u001b[39;00m\n\u001b[0;32m    473\u001b[0m \u001b[39m    \"\"\"\u001b[39;00m\n\u001b[1;32m--> 474\u001b[0m     y_type, y_true, y_pred, multioutput \u001b[39m=\u001b[39m _check_reg_targets(\n\u001b[0;32m    475\u001b[0m         y_true, y_pred, multioutput\n\u001b[0;32m    476\u001b[0m     )\n\u001b[0;32m    477\u001b[0m     check_consistent_length(y_true, y_pred, sample_weight)\n\u001b[0;32m    478\u001b[0m     output_errors \u001b[39m=\u001b[39m np\u001b[39m.\u001b[39maverage((y_true \u001b[39m-\u001b[39m y_pred) \u001b[39m*\u001b[39m\u001b[39m*\u001b[39m \u001b[39m2\u001b[39m, axis\u001b[39m=\u001b[39m\u001b[39m0\u001b[39m, weights\u001b[39m=\u001b[39msample_weight)\n",
      "File \u001b[1;32mc:\\Users\\didit\\Downloads\\time-series\\time-series\\Lib\\site-packages\\sklearn\\metrics\\_regression.py:101\u001b[0m, in \u001b[0;36m_check_reg_targets\u001b[1;34m(y_true, y_pred, multioutput, dtype)\u001b[0m\n\u001b[0;32m     99\u001b[0m check_consistent_length(y_true, y_pred)\n\u001b[0;32m    100\u001b[0m y_true \u001b[39m=\u001b[39m check_array(y_true, ensure_2d\u001b[39m=\u001b[39m\u001b[39mFalse\u001b[39;00m, dtype\u001b[39m=\u001b[39mdtype)\n\u001b[1;32m--> 101\u001b[0m y_pred \u001b[39m=\u001b[39m check_array(y_pred, ensure_2d\u001b[39m=\u001b[39;49m\u001b[39mFalse\u001b[39;49;00m, dtype\u001b[39m=\u001b[39;49mdtype)\n\u001b[0;32m    103\u001b[0m \u001b[39mif\u001b[39;00m y_true\u001b[39m.\u001b[39mndim \u001b[39m==\u001b[39m \u001b[39m1\u001b[39m:\n\u001b[0;32m    104\u001b[0m     y_true \u001b[39m=\u001b[39m y_true\u001b[39m.\u001b[39mreshape((\u001b[39m-\u001b[39m\u001b[39m1\u001b[39m, \u001b[39m1\u001b[39m))\n",
      "File \u001b[1;32mc:\\Users\\didit\\Downloads\\time-series\\time-series\\Lib\\site-packages\\sklearn\\utils\\validation.py:959\u001b[0m, in \u001b[0;36mcheck_array\u001b[1;34m(array, accept_sparse, accept_large_sparse, dtype, order, copy, force_all_finite, ensure_2d, allow_nd, ensure_min_samples, ensure_min_features, estimator, input_name)\u001b[0m\n\u001b[0;32m    953\u001b[0m         \u001b[39mraise\u001b[39;00m \u001b[39mValueError\u001b[39;00m(\n\u001b[0;32m    954\u001b[0m             \u001b[39m\"\u001b[39m\u001b[39mFound array with dim \u001b[39m\u001b[39m%d\u001b[39;00m\u001b[39m. \u001b[39m\u001b[39m%s\u001b[39;00m\u001b[39m expected <= 2.\u001b[39m\u001b[39m\"\u001b[39m\n\u001b[0;32m    955\u001b[0m             \u001b[39m%\u001b[39m (array\u001b[39m.\u001b[39mndim, estimator_name)\n\u001b[0;32m    956\u001b[0m         )\n\u001b[0;32m    958\u001b[0m     \u001b[39mif\u001b[39;00m force_all_finite:\n\u001b[1;32m--> 959\u001b[0m         _assert_all_finite(\n\u001b[0;32m    960\u001b[0m             array,\n\u001b[0;32m    961\u001b[0m             input_name\u001b[39m=\u001b[39;49minput_name,\n\u001b[0;32m    962\u001b[0m             estimator_name\u001b[39m=\u001b[39;49mestimator_name,\n\u001b[0;32m    963\u001b[0m             allow_nan\u001b[39m=\u001b[39;49mforce_all_finite \u001b[39m==\u001b[39;49m \u001b[39m\"\u001b[39;49m\u001b[39mallow-nan\u001b[39;49m\u001b[39m\"\u001b[39;49m,\n\u001b[0;32m    964\u001b[0m         )\n\u001b[0;32m    966\u001b[0m \u001b[39mif\u001b[39;00m ensure_min_samples \u001b[39m>\u001b[39m \u001b[39m0\u001b[39m:\n\u001b[0;32m    967\u001b[0m     n_samples \u001b[39m=\u001b[39m _num_samples(array)\n",
      "File \u001b[1;32mc:\\Users\\didit\\Downloads\\time-series\\time-series\\Lib\\site-packages\\sklearn\\utils\\validation.py:124\u001b[0m, in \u001b[0;36m_assert_all_finite\u001b[1;34m(X, allow_nan, msg_dtype, estimator_name, input_name)\u001b[0m\n\u001b[0;32m    121\u001b[0m \u001b[39mif\u001b[39;00m first_pass_isfinite:\n\u001b[0;32m    122\u001b[0m     \u001b[39mreturn\u001b[39;00m\n\u001b[1;32m--> 124\u001b[0m _assert_all_finite_element_wise(\n\u001b[0;32m    125\u001b[0m     X,\n\u001b[0;32m    126\u001b[0m     xp\u001b[39m=\u001b[39;49mxp,\n\u001b[0;32m    127\u001b[0m     allow_nan\u001b[39m=\u001b[39;49mallow_nan,\n\u001b[0;32m    128\u001b[0m     msg_dtype\u001b[39m=\u001b[39;49mmsg_dtype,\n\u001b[0;32m    129\u001b[0m     estimator_name\u001b[39m=\u001b[39;49mestimator_name,\n\u001b[0;32m    130\u001b[0m     input_name\u001b[39m=\u001b[39;49minput_name,\n\u001b[0;32m    131\u001b[0m )\n",
      "File \u001b[1;32mc:\\Users\\didit\\Downloads\\time-series\\time-series\\Lib\\site-packages\\sklearn\\utils\\validation.py:173\u001b[0m, in \u001b[0;36m_assert_all_finite_element_wise\u001b[1;34m(X, xp, allow_nan, msg_dtype, estimator_name, input_name)\u001b[0m\n\u001b[0;32m    156\u001b[0m \u001b[39mif\u001b[39;00m estimator_name \u001b[39mand\u001b[39;00m input_name \u001b[39m==\u001b[39m \u001b[39m\"\u001b[39m\u001b[39mX\u001b[39m\u001b[39m\"\u001b[39m \u001b[39mand\u001b[39;00m has_nan_error:\n\u001b[0;32m    157\u001b[0m     \u001b[39m# Improve the error message on how to handle missing values in\u001b[39;00m\n\u001b[0;32m    158\u001b[0m     \u001b[39m# scikit-learn.\u001b[39;00m\n\u001b[0;32m    159\u001b[0m     msg_err \u001b[39m+\u001b[39m\u001b[39m=\u001b[39m (\n\u001b[0;32m    160\u001b[0m         \u001b[39mf\u001b[39m\u001b[39m\"\u001b[39m\u001b[39m\\n\u001b[39;00m\u001b[39m{\u001b[39;00mestimator_name\u001b[39m}\u001b[39;00m\u001b[39m does not accept missing values\u001b[39m\u001b[39m\"\u001b[39m\n\u001b[0;32m    161\u001b[0m         \u001b[39m\"\u001b[39m\u001b[39m encoded as NaN natively. For supervised learning, you might want\u001b[39m\u001b[39m\"\u001b[39m\n\u001b[1;32m   (...)\u001b[0m\n\u001b[0;32m    171\u001b[0m         \u001b[39m\"\u001b[39m\u001b[39m#estimators-that-handle-nan-values\u001b[39m\u001b[39m\"\u001b[39m\n\u001b[0;32m    172\u001b[0m     )\n\u001b[1;32m--> 173\u001b[0m \u001b[39mraise\u001b[39;00m \u001b[39mValueError\u001b[39;00m(msg_err)\n",
      "\u001b[1;31mValueError\u001b[0m: Input contains NaN."
     ]
    },
    {
     "data": {
      "image/png": "[encoded data removed]",
      "text/plain": [
       "<Figure size 1200x500 with 1 Axes>"
      ]
     },
     "metadata": {},
     "output_type": "display_data"
    }
   ],
   "source": [
    "#run the ARIMA model with random numbers\n",
    "model_arima = ARIMA(au2, order=(0,2,3))\n",
    "#save arima preds\n",
    "fcast1 = model_arima.fit().forecast(steps=7)\n",
    "#pass the same index as others\n",
    "fcast1 = pd.Series(fcast1, index=index_7_years)\n",
    "fcast1 = fcast1.rename('Arima')\n",
    "\n",
    "#plot the predictions\n",
    "plt.figure(figsize=(12,5), dpi=100)\n",
    "chart = sns.lineplot(x='time', y='value', data=au)\n",
    "chart.set_title('Arima model predictions')\n",
    "fcast1.plot(ax=chart, color='red', marker='o', legend=True)\n",
    "au_v2.plot(ax=chart, color='green', marker='o', legend=True)\n",
    "#print the AI\n",
    "print('AIC: ', model_arima.fit().aic)\n",
    "#MSE\n",
    "print('MSE of ARIMA is: ', mean_squared_error(au_v['value'].values, fcast1.values, squared=False))"
   ]
  },
  {
   "cell_type": "code",
   "execution_count": null,
   "metadata": {},
   "outputs": [],
   "source": []
  }
 ],
 "metadata": {
  "kernelspec": {
   "display_name": "time-series",
   "language": "python",
   "name": "python3"
  },
  "language_info": {
   "codemirror_mode": {
    "name": "ipython",
    "version": 3
   },
   "file_extension": ".py",
   "mimetype": "text/x-python",
   "name": "python",
   "nbconvert_exporter": "python",
   "pygments_lexer": "ipython3",
   "version": "3.11.4"
  },
  "orig_nbformat": 4
 },
 "nbformat": 4,
 "nbformat_minor": 2
}
